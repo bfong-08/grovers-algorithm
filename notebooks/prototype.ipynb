{
 "cells": [
  {
   "cell_type": "markdown",
   "id": "5c257eda",
   "metadata": {},
   "source": [
    "# Implementing Grover's Algorithm Using Qiskit\n",
    "\n",
    "My goal is to solve a simple 3-qubit problem with a single solution.\n"
   ]
  },
  {
   "cell_type": "code",
   "execution_count": 36,
   "id": "cb9c6873",
   "metadata": {},
   "outputs": [],
   "source": [
    "from qiskit import QuantumCircuit\n",
    "from qiskit_aer import AerSimulator\n",
    "import matplotlib.pyplot as plt"
   ]
  },
  {
   "cell_type": "markdown",
   "id": "a893353a",
   "metadata": {},
   "source": [
    "## Oracle Circuit\n",
    "\n",
    "The oracle $Z_f$ must flip the phase of the bitstring corresponding to the number $3$: $011$. This means that $f(3)=1$ and $f(x)=0$ for all $x\\neq 3$.\n",
    "\n",
    "The implementation of this oracle is as follows:\n",
    "\n",
    "1. Apply an X-gate to the leftmost qubit (the qubit corresponding to a $0$ in the solution bitstring).\n",
    "2. Apply a multi-controlled Z-gate over all qubits. Only the state $\\ket{111}$ will have its phase flipped.\n",
    "3. Undo the X-gate from step 1.\n"
   ]
  },
  {
   "cell_type": "code",
   "execution_count": 37,
   "id": "0d08b976",
   "metadata": {},
   "outputs": [],
   "source": [
    "def oracle() -> QuantumCircuit:\n",
    "    # Create a QuantumCircuit implementing an oracle function\n",
    "    # for Grover's Algorithm\n",
    "\n",
    "    # The quantum circuit will have 3 qubits\n",
    "    qc = QuantumCircuit(3)\n",
    "\n",
    "    qc.x(2)\n",
    "    qc.ccz(0, 1, 2)\n",
    "    qc.x(2)\n",
    "\n",
    "    return qc"
   ]
  },
  {
   "cell_type": "markdown",
   "id": "55ea073c",
   "metadata": {},
   "source": [
    "## Grover's Operation\n",
    "\n",
    "Grover's Operation is the operation repeatedly applied to a uniform superposition of basis states that amplifies the amplitude associated with the solution bitstring. As a series of operations, it is defined as $H^{\\otimes n}Z_\\text{OR}H^{\\otimes n}Z_f$.\n"
   ]
  },
  {
   "cell_type": "code",
   "execution_count": 38,
   "id": "74694c4b",
   "metadata": {},
   "outputs": [],
   "source": [
    "def grover_operation(oracle: QuantumCircuit):\n",
    "    # Create a QuantumCircuit implementing Grover's Operation\n",
    "    # for a 3-qubit system\n",
    "\n",
    "    qc = QuantumCircuit(3)\n",
    "    qc.compose(oracle, inplace=True)\n",
    "    qc.h(range(3))\n",
    "\n",
    "    # Implement Z_OR using controlled-Z gates\n",
    "    qc.x(range(3))\n",
    "    qc.ccz(0,1,2)\n",
    "    qc.x(range(3))\n",
    "\n",
    "    qc.h(range(3))\n",
    "\n",
    "    return qc\n",
    "    "
   ]
  },
  {
   "cell_type": "markdown",
   "id": "21741eeb",
   "metadata": {},
   "source": [
    "## Grover's Algorithm\n",
    "\n",
    "The circuit implementation for Grover's algorithm is defined as follows:\n",
    "\n",
    "1. Apply a layer of Hadamard gates to all qubits\n",
    "2. Apply Grover's Operation $\\frac{\\pi}{4}\\sqrt{N}$ number of times, where $N=2^n$ for $n$ qubits.\n"
   ]
  },
  {
   "cell_type": "code",
   "execution_count": 39,
   "id": "6d12c499",
   "metadata": {},
   "outputs": [],
   "source": [
    "def grover_algorithm():\n",
    "    qc = QuantumCircuit(3, 3)\n",
    "\n",
    "    qc.h(range(3))\n",
    "    for _ in range(2):\n",
    "        qc.compose(grover_operation(oracle()),inplace=True)\n",
    "    qc.measure(range(3), range(3))\n",
    "\n",
    "    result = AerSimulator().run(qc, shots=100, memory=True).result()\n",
    "    measurements = result.get_memory()\n",
    "    return measurements"
   ]
  },
  {
   "cell_type": "code",
   "execution_count": 52,
   "id": "51b5a775",
   "metadata": {},
   "outputs": [
    {
     "data": {
      "image/png": "[encoded data removed]",
      "text/plain": [
       "<Figure size 640x480 with 1 Axes>"
      ]
     },
     "metadata": {},
     "output_type": "display_data"
    }
   ],
   "source": [
    "results = grover_algorithm()\n",
    "\n",
    "p = plt.hist(results)\n"
   ]
  }
 ],
 "metadata": {
  "kernelspec": {
   "display_name": ".venv",
   "language": "python",
   "name": "python3"
  },
  "language_info": {
   "codemirror_mode": {
    "name": "ipython",
    "version": 3
   },
   "file_extension": ".py",
   "mimetype": "text/x-python",
   "name": "python",
   "nbconvert_exporter": "python",
   "pygments_lexer": "ipython3",
   "version": "3.13.1"
  }
 },
 "nbformat": 4,
 "nbformat_minor": 5
}
